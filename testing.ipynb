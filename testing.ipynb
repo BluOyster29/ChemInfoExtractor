{
 "cells": [
  {
   "cell_type": "code",
   "execution_count": 16,
   "id": "8ea7d0b9-bb95-4503-b3e2-44cc54e4e601",
   "metadata": {},
   "outputs": [],
   "source": [
    "chem_text = open('exercise_experimentals.txt').read()"
   ]
  },
  {
   "cell_type": "code",
   "execution_count": 17,
   "id": "0a12df0e-cd44-45c1-a934-273e2f7dd0bd",
   "metadata": {},
   "outputs": [],
   "source": [
    "exper = [i for i in chem_text.split('\\n') if i != '']"
   ]
  },
  {
   "cell_type": "code",
   "execution_count": 18,
   "id": "788521d9-9b42-4951-a11b-11256e7a1d80",
   "metadata": {},
   "outputs": [],
   "source": [
    "import spacy, re\n",
    "from chemdataextractor.doc import Document, Paragraph\n",
    "from spacy import displacy\n",
    "\n",
    "nlp = spacy.load(\"en_core_web_sm\")"
   ]
  },
  {
   "cell_type": "code",
   "execution_count": 19,
   "id": "c362fd4b-3b99-467d-ae16-2d01d8562965",
   "metadata": {},
   "outputs": [],
   "source": [
    "added = [0,1,3,4,5,6,8,9]\n",
    "cooled = [10]\n",
    "evacuated = [1]\n",
    "dissolved = [7]"
   ]
  },
  {
   "cell_type": "code",
   "execution_count": 20,
   "id": "413475fe-1d8a-4c30-ae6f-35659f0d0f29",
   "metadata": {},
   "outputs": [],
   "source": [
    "added_experiments = [exper[i] for i in added]"
   ]
  },
  {
   "cell_type": "code",
   "execution_count": null,
   "id": "f4b63e7d-8e94-4166-8ae1-600a8475684c",
   "metadata": {},
   "outputs": [],
   "source": []
  },
  {
   "cell_type": "markdown",
   "id": "a8ffe424-6aac-4ba6-8066-e36682b92503",
   "metadata": {},
   "source": [
    "## Remove Chems"
   ]
  },
  {
   "cell_type": "code",
   "execution_count": 21,
   "id": "64e646f8-c06e-4732-bf61-ff95ca656760",
   "metadata": {},
   "outputs": [],
   "source": [
    "from nltk.tokenize.punkt import PunktSentenceTokenizer\n",
    "tokenizer = PunktSentenceTokenizer()"
   ]
  },
  {
   "cell_type": "code",
   "execution_count": 22,
   "id": "660e0626-b8f7-4627-9709-9cd212722a75",
   "metadata": {},
   "outputs": [],
   "source": [
    "def format_spans(span):\n",
    "    chems = []\n",
    "    for i in span:\n",
    "        chems.append((i.text, i.start, i.end))\n",
    "        \n",
    "    return chems\n",
    "\n",
    "def remove_chems(text, sorted_chems):\n",
    "\n",
    "    phrases = []\n",
    "    marker = 0\n",
    "    chem_map = {}\n",
    "    for idx, cem in enumerate(sorted_chems):\n",
    "        chem_map[f'chem_{idx}'] = cem\n",
    "\n",
    "        start_cem = cem[1]\n",
    "        end_cem = cem[2]\n",
    "\n",
    "        phrases.append(text[marker:start_cem])\n",
    "        marker = end_cem\n",
    "\n",
    "        if idx == len(sorted_chems)-1:\n",
    "            phrases.append(text[marker:])\n",
    "\n",
    "    return 'chem'.join(phrases), chem_map\n",
    "    \n",
    "def extract_chems(text):\n",
    "    \n",
    "    chems = Document(text).cems\n",
    "    chems = format_spans(chems)\n",
    "    sorted_chems = sorted(chems, key= lambda x: x[1])\n",
    "    removed_chems, chem_map = remove_chems(text, sorted_chems)\n",
    "    \n",
    "    return removed_chems, sorted_chems, text, chem_map"
   ]
  },
  {
   "cell_type": "code",
   "execution_count": 23,
   "id": "d867c52c-d78c-4b3a-8332-1224b101bf07",
   "metadata": {},
   "outputs": [],
   "source": [
    "def extract_cem_vols(text):\n",
    "    \n",
    "    chem_vol = {}\n",
    "\n",
    "    for idx,  i in enumerate(extract_cems(text)):\n",
    "        idx += 1\n",
    "        chem_vol[f'chem_{idx}'] = {}\n",
    "\n",
    "        search= re.search(f\"{i} \\([;×,~\\+:/\\w,°%.\\- =]+\\)\", text)\n",
    "\n",
    "        if search:\n",
    "\n",
    "            chem, vol = search.group(0).split(' (')\n",
    "            vol = f'({vol}'\n",
    "            chem_vol[f'chem_{idx}']['name'] = chem\n",
    "            chem_vol[f'chem_{idx}']['volume'] = vol\n",
    "        else:\n",
    "            chem_vol[f'chem_{idx}']['name'] = i\n",
    "            chem_vol[f'chem_{idx}']['volume'] = 'unspecified'\n",
    "    return chem_vol"
   ]
  },
  {
   "cell_type": "code",
   "execution_count": 24,
   "id": "c9fb8e50-e5dc-4ee9-a354-9d4e81d85076",
   "metadata": {},
   "outputs": [],
   "source": [
    "def extract_cems(text):\n",
    "    cems = Document(text).cems\n",
    "    return [i.text for i in cems]"
   ]
  },
  {
   "cell_type": "code",
   "execution_count": 179,
   "id": "0e029fbe-fb17-484e-a8d2-61d92b0fcb5a",
   "metadata": {},
   "outputs": [],
   "source": [
    "def gather_process(text):\n",
    "    \n",
    "    '''\n",
    "    This script tries to identify the main clause. This is \n",
    "    done by finding the root of the sentences verb phrase. \n",
    "    In theory this will describe the relation shit between\n",
    "    the two noun phrases which make up the experiment. \n",
    "\n",
    "    args:\n",
    "        text: The raw text of the epxeriment\n",
    "\n",
    "    returns:\n",
    "        process: The dictionary formatted output of the experiment \n",
    "        summariser\n",
    "    '''\n",
    "    first_sentence = tokenizer.tokenize(text)[0]\n",
    "\n",
    "    process={\n",
    "             'method' : None}\n",
    "\n",
    "    doc = nlp(first_sentence)\n",
    "\n",
    "    for idx, i in enumerate(doc):\n",
    "        if i.pos_ == 'VERB':\n",
    "            None\n",
    "        if i.dep_ == 'ROOT':\n",
    "            print(i.text)\n",
    "            if i.text not in ['added', 'evacuated', 'stirred']:\n",
    "                continue\n",
    "                \n",
    "            phrase_1 = doc[:idx]\n",
    "\n",
    "            method = i.text\n",
    "            phrase_2 = doc[idx+1:]\n",
    "            process['solution_1']=extract_cem_vols(doc[:idx].text)\n",
    "            process['solution_2']=extract_cem_vols(doc[idx+1:].text)\n",
    "            process['method']=i.text#\n",
    "            process['type'] = 'Unspecified'\n",
    "            break\n",
    "            \n",
    "    return process"
   ]
  },
  {
   "cell_type": "code",
   "execution_count": 180,
   "id": "fd995b4a-75da-449b-b963-1ffe935f626c",
   "metadata": {},
   "outputs": [],
   "source": [
    "volumes = re.compile(r\"\\([;×,~\\+:/\\w,°%.\\- =]+\\)\")\n",
    "def remove_vols(text):\n",
    "    \n",
    "    text_vols = []\n",
    "    \n",
    "    for match in re.finditer(volumes, text):\n",
    "        text_vols.append((match.group(0),match.start(), match.end()))\n",
    "        \n",
    "    phrases = []\n",
    "    marker = 0\n",
    "    vol_map = {}\n",
    "    for idx, vol in enumerate(text_vols):\n",
    "        vol_map[f'vol_{idx}'] = vol[0]\n",
    "        \n",
    "        text = re.sub(vol[0], '', text)\n",
    "        \n",
    "    text = re.sub(\"\\(\\)\", '', text)\n",
    "    text = re.sub('  ', ' ', text)\n",
    "    return text, vol_map"
   ]
  },
  {
   "cell_type": "code",
   "execution_count": 181,
   "id": "4a078542-a120-4118-9888-bd0b978a1cc6",
   "metadata": {},
   "outputs": [],
   "source": [
    "def format_output_text(input_text, process):\n",
    "    \n",
    "    for key in process:\n",
    "        \n",
    "        if type(process[key]) == str:\n",
    "            \n",
    "            if process[key] == 'Unspecified':\n",
    "                continue\n",
    "            \n",
    "            input_text = re.sub(process[key], f\"[{process[key]}]\", input_text)\n",
    "            \n",
    "        elif type(process[key]) == dict:\n",
    "            \n",
    "            for subkey in process[key]:\n",
    "                \n",
    "                for param in process[key][subkey]:\n",
    "                    \n",
    "                    input_text = re.sub(process[key][subkey][param], \"[{}]\".format(process[key][subkey][param]), input_text)\n",
    "    \n",
    "    input_text = re.sub('\\)\\]\\)', ')]', input_text)\n",
    "    input_text = re.sub('\\(\\[\\(', '[(', input_text)\n",
    "    process['annotated'] = input_text\n",
    "    return process, input_text"
   ]
  },
  {
   "cell_type": "code",
   "execution_count": 182,
   "id": "ac3a3653-7b34-4003-a186-ebf708673499",
   "metadata": {},
   "outputs": [],
   "source": [
    "def experiment_summariser(experiment):\n",
    "    processes = []\n",
    "    sentences = tokenizer.tokenize(experiment)\n",
    "\n",
    "    for sentence in sentences:\n",
    "        test_sentence = sentence # main info\n",
    "        test_text, vols = remove_vols(test_sentence)\n",
    "    \n",
    "        process = gather_process(test_text)\n",
    "        processes.append(process)\n",
    "    \n",
    "    return process, processes"
   ]
  },
  {
   "cell_type": "code",
   "execution_count": 183,
   "id": "55ae7566-9d0a-41e9-ab4b-e972f4f8f17e",
   "metadata": {},
   "outputs": [],
   "source": [
    "# for idx, ex in enumerate(added_experiments):\n",
    "    \n",
    "#     process = experiment_summariser(ex)\n",
    "    \n",
    "#     with open('output/experiment_{}.json'.format(idx), 'w') as file:\n",
    "        \n",
    "#         json.dump(process, file)\n",
    "    \n",
    "    "
   ]
  },
  {
   "cell_type": "code",
   "execution_count": 184,
   "id": "5586e2f7-b71b-4ca1-b195-8ebd404e1817",
   "metadata": {},
   "outputs": [
    {
     "name": "stdout",
     "output_type": "stream",
     "text": [
      "added\n",
      "removed\n",
      "removed\n"
     ]
    }
   ],
   "source": [
    "process, processes = experiment_summariser(added_experiments[0])"
   ]
  },
  {
   "cell_type": "code",
   "execution_count": 185,
   "id": "6525ef13-1f0a-49e0-a2ef-9818304e55cd",
   "metadata": {},
   "outputs": [
    {
     "data": {
      "text/plain": [
       "[{'method': 'added',\n",
       "  'solution_1': {'chem_1': {'name': 'potassium osmate dihydrate',\n",
       "    'volume': 'unspecified'},\n",
       "   'chem_2': {'name': '4-Methylmorpholine N-oxide', 'volume': 'unspecified'}},\n",
       "  'solution_2': {'chem_1': {'name': '‐5‐butyl‐1H,3H,5H,7aH‐pyrrolo[1,2‐c][1,3]oxazol‐3‐one',\n",
       "    'volume': 'unspecified'},\n",
       "   'chem_2': {'name': 'H2O', 'volume': 'unspecified'},\n",
       "   'chem_3': {'name': 'acetone', 'volume': 'unspecified'}},\n",
       "  'type': 'Unspecified'},\n",
       " {'method': None},\n",
       " {'method': None}]"
      ]
     },
     "execution_count": 185,
     "metadata": {},
     "output_type": "execute_result"
    }
   ],
   "source": [
    "processes"
   ]
  },
  {
   "cell_type": "code",
   "execution_count": 124,
   "id": "55600538-6b03-4027-94b0-45bd77868434",
   "metadata": {},
   "outputs": [
    {
     "data": {
      "text/plain": [
       "'4-Methylmorpholine N-oxide (1.76 mL, 8.42 mmol) and potassium osmate dihydrate (97.3 mg, 0.38 mmol) were added to a solution of (5R,7aS)‐5‐butyl‐1H,3H,5H,7aH‐pyrrolo[1,2‐c][1,3]oxazol‐3‐one (347 mg, 1.91 mmol) in acetone/H2O (2:1, 54 mL). After the mixture was stirred at room temperature for 5 h, the solvents were removed under reduced pressure. Traces of water were removed from the mixture by azeotropic distillations with toluene (2 x 5 mL) under reduced pressure and the residue was purified by silica gel column chromatography (hexane/EtOAc = 3/1) to give (5S,6S,7R,7aS)-5-Butyl-6,7-dihydroxytetrahydropyrrolo[1,2-c]oxazol-3(1H)-one (398 mg, 97%) as brown oil.'"
      ]
     },
     "execution_count": 124,
     "metadata": {},
     "output_type": "execute_result"
    }
   ],
   "source": [
    "added_experiments[0]"
   ]
  },
  {
   "cell_type": "code",
   "execution_count": 26,
   "id": "10935ef5-2ba9-4dc7-b3ed-aa73915eab21",
   "metadata": {},
   "outputs": [],
   "source": [
    "removed_chems, sorted_chems, text, chem_map = extract_chems(added_experiments[0])\n",
    "removed_vols, vol_map = remove_vols(removed_chems)"
   ]
  },
  {
   "cell_type": "code",
   "execution_count": null,
   "id": "0ce2efd1-d3a6-4a04-984b-a4edeb4daba8",
   "metadata": {},
   "outputs": [],
   "source": []
  },
  {
   "cell_type": "code",
   "execution_count": 28,
   "id": "55d3c9bb-8992-408b-ab83-6341e54dc4a0",
   "metadata": {},
   "outputs": [],
   "source": [
    "process = gather_process(added_experiments[0])"
   ]
  },
  {
   "cell_type": "code",
   "execution_count": 58,
   "id": "3ada666f-fddc-4544-b218-8ca8b3af1c81",
   "metadata": {},
   "outputs": [],
   "source": [
    "out, input_text= format_output_text(added_experiments[3], process)"
   ]
  },
  {
   "cell_type": "code",
   "execution_count": 44,
   "id": "92410db3-bd66-4735-8663-428e28651560",
   "metadata": {},
   "outputs": [],
   "source": [
    "#def test_output(output_process, gold_output):\n",
    "    \n",
    "#     score = 0 \n",
    "#     print(gold_output)\n",
    "#     for key in output_process:\n",
    "#         print(key)\n",
    "#         if output_process[key] == gold_output[key]:\n",
    "#             score += 1\n",
    "            \n",
    "#     return score\n",
    "\n",
    "    "
   ]
  },
  {
   "cell_type": "code",
   "execution_count": 45,
   "id": "00e733a2-dc01-41ad-846a-1c75a08a374b",
   "metadata": {},
   "outputs": [],
   "source": [
    "import Levenshtein\n",
    "from Levenshtein import distance\n",
    "from fuzzywuzzy import fuzz"
   ]
  },
  {
   "cell_type": "markdown",
   "id": "f63c43e3-ac85-4edd-9058-8890962899a7",
   "metadata": {},
   "source": [
    "## test_output(process, experiment_0)"
   ]
  },
  {
   "cell_type": "markdown",
   "id": "d857e36d-11ac-4239-a57b-51c3e57fc1d8",
   "metadata": {},
   "source": [
    "## Remove Volumes\n"
   ]
  },
  {
   "cell_type": "code",
   "execution_count": 7,
   "id": "392367d5-0da8-4272-b4f2-c3861c030eb4",
   "metadata": {},
   "outputs": [],
   "source": [
    "## Phase 1 Extract Phrases"
   ]
  },
  {
   "cell_type": "code",
   "execution_count": 15,
   "id": "6767521c-1690-4492-a65e-54b7e554d64b",
   "metadata": {},
   "outputs": [],
   "source": [
    "exp_summ = experiment_summariser(exper[2])"
   ]
  },
  {
   "cell_type": "code",
   "execution_count": 16,
   "id": "48608e58-c65f-44a5-9f59-e1ab950c2d0b",
   "metadata": {},
   "outputs": [
    {
     "data": {
      "text/plain": [
       "{'method': 'evacuated',\n",
       " 'solution_1': {'chem_1': {'Name': 'nitrogen', 'Volume': 'Unspecified'}},\n",
       " 'solution_2': {'chem_1': {'Name': 'nitrogen', 'Volume': 'Unspecified'}},\n",
       " 'type': 'Unspecified'}"
      ]
     },
     "execution_count": 16,
     "metadata": {},
     "output_type": "execute_result"
    }
   ],
   "source": [
    "exp_summ"
   ]
  },
  {
   "cell_type": "code",
   "execution_count": 17,
   "id": "516a03f2-1b9f-4e70-bdb0-eaaec15ff15d",
   "metadata": {},
   "outputs": [
    {
     "ename": "NameError",
     "evalue": "name 'replace_chems' is not defined",
     "output_type": "error",
     "traceback": [
      "\u001b[0;31m---------------------------------------------------------------------------\u001b[0m",
      "\u001b[0;31mNameError\u001b[0m                                 Traceback (most recent call last)",
      "\u001b[0;32m/var/folders/vr/6j8slrvj52gczkfpymxncbqm0000gn/T/ipykernel_7147/760118307.py\u001b[0m in \u001b[0;36m<module>\u001b[0;34m\u001b[0m\n\u001b[1;32m     13\u001b[0m \u001b[0;34m\u001b[0m\u001b[0m\n\u001b[1;32m     14\u001b[0m \u001b[0;34m\u001b[0m\u001b[0m\n\u001b[0;32m---> 15\u001b[0;31m \u001b[0mtext\u001b[0m\u001b[0;34m=\u001b[0m\u001b[0mreplace_chems\u001b[0m\u001b[0;34m(\u001b[0m\u001b[0mexper\u001b[0m\u001b[0;34m[\u001b[0m\u001b[0;36m0\u001b[0m\u001b[0;34m]\u001b[0m\u001b[0;34m)\u001b[0m\u001b[0;34m\u001b[0m\u001b[0;34m\u001b[0m\u001b[0m\n\u001b[0m\u001b[1;32m     16\u001b[0m \u001b[0;34m\u001b[0m\u001b[0m\n\u001b[1;32m     17\u001b[0m \u001b[0mprint\u001b[0m\u001b[0;34m(\u001b[0m\u001b[0mtext\u001b[0m\u001b[0;34m)\u001b[0m\u001b[0;34m\u001b[0m\u001b[0;34m\u001b[0m\u001b[0m\n",
      "\u001b[0;31mNameError\u001b[0m: name 'replace_chems' is not defined"
     ]
    }
   ],
   "source": [
    "volumes = re.compile(r\"\\([;×,~\\+:/\\w,°%.\\- =]+\\)\")\n",
    "\n",
    "def replace_chems_n_vols(text):\n",
    "    \n",
    "    chems = [i.text for i in Document(text).cems]\n",
    "    \n",
    "    for c in chems:\n",
    "        text= re.sub(c, 'chem', text)\n",
    "        \n",
    "    text = re.sub(volumes, '', text)\n",
    "    \n",
    "    return text\n",
    "\n",
    "\n",
    "text=replace_chems(exper[0])\n",
    "\n",
    "print(text)"
   ]
  },
  {
   "cell_type": "code",
   "execution_count": 18,
   "id": "a367e8a9-f8d9-4e70-90a1-6a1013fe37bf",
   "metadata": {},
   "outputs": [],
   "source": [
    "# def decode_experiment(summ):\n",
    "    \n",
    "#     if summ['Method'] == 'added':\n",
    "        \n",
    "#         solution = []\n",
    "#         volumes = []\n",
    "#         for chem in summ['solution_1']:\n",
    "                        \n",
    "#             if summ['solution_1'][chem]['Volume'] != 'Unspecified':\n",
    "#                 solution.append(f\"{summ['solution_1'][chem]['Name']} {summ['solution_1'][chem]['Volume']}\")\n",
    "#             else:\n",
    "#                 solution.append(f\"{summ['solution_1'][chem]['Name']}\")\n",
    "#                 #volumes.append(summ['solution_1'][chem]['Volume'])\n",
    "        \n",
    "#         solution_2 = []\n",
    "        \n",
    "#         for chem in summ['solution_2']:\n",
    "            \n",
    "#             if summ['solution_2'][chem]['Volume'] != 'Unspecified':\n",
    "#                 solution_2.append(f\"{summ['solution_2'][chem]['Name']} {summ['solution_2'][chem]['Volume']}\")\n",
    "#             else:\n",
    "#                 solution_2.append(f\"{summ['solution_2'][chem]['Name']}\")\n",
    "        \n",
    "#         if len(solution) >= 2:\n",
    "#             solution = ' and '.join(solution)\n",
    "#         else:\n",
    "#             solution = solution[0]\n",
    "            \n",
    "#         if len(solution_2) >= 2:\n",
    "#             solution_2 = ' and '.join(solution_2)\n",
    "#         else:\n",
    "#             solution_2 = solution_2[0]\n",
    "            \n",
    "#         return f\"{solution} was added to {solution_2}\""
   ]
  },
  {
   "cell_type": "code",
   "execution_count": 142,
   "id": "4cba79d1-5af1-4d42-acd9-cb734d823e75",
   "metadata": {},
   "outputs": [],
   "source": [
    "# decode_experiment(exp_summ)"
   ]
  },
  {
   "cell_type": "code",
   "execution_count": 151,
   "id": "5dd1469e-91f9-4a5b-86b7-5c38cc47ec45",
   "metadata": {},
   "outputs": [],
   "source": [
    "sentences=tokenizer.tokenize(exper[0])"
   ]
  },
  {
   "cell_type": "code",
   "execution_count": 71,
   "id": "3c59ee0a-d78d-4ce7-920a-d7d3275105b5",
   "metadata": {},
   "outputs": [],
   "source": [
    "gold = json.load(open('gold_output/experiment_0_gold.json'))"
   ]
  },
  {
   "cell_type": "code",
   "execution_count": 189,
   "id": "eb02a920-14ce-4802-8d99-17982ac3c0e9",
   "metadata": {},
   "outputs": [],
   "source": [
    "test_10 = {'idx': 10,\n",
    " 'method': 'cooled',\n",
    " 'solution_1': {'chem_1': {'name': 'NaH',\n",
    "   'volume': '(2.12 g, 52.9 mmol, 1.20 equiv, 60% in mineral oil)'},\n",
    "               'chem_2': {'name': 'THF/DMSO',\n",
    "   'volume': '(10:1, 150 mL)'}},\n",
    "                \n",
    "                \n",
    "    'solution_2': {'chem_1': {'name': 'tributyl(iodomethyl)stannane',\n",
    "   'volume': '(19.0 g, 44.1 mmol, 1.00 equiv)'}\n",
    "                  },\n",
    " 'type': 'continous'}\n",
    "          \n",
    "with open('gold_output/experiment_10_gold.json', 'w') as path:\n",
    "    json.dump(test_10, path)"
   ]
  },
  {
   "cell_type": "code",
   "execution_count": 340,
   "id": "e834370c-fa71-4c7e-b20c-56d8912af955",
   "metadata": {},
   "outputs": [],
   "source": [
    "\n",
    "    \n",
    "sentences=tokenizer.tokenize(exper[0])\n",
    "doc = nlp(sentences[0])\n",
    "\n",
    "for idx, token in enumerate(doc):\n",
    "    #print(token, token.dep_)\n",
    "    \n",
    "    \n",
    "    if token.dep_ in ignore_list:\n",
    "        doc=nlp(' '.join([i for i in sentences[0].split(' ') if i != token.text ]))\n",
    "        \n",
    "    if token.pos_ == 'VERB' or token.dep_ == 'ROOT':\n",
    "        method = token.text\n",
    "        \n",
    "        clause_1 = doc[:idx-1]\n",
    "        clause_2 = doc[idx:]"
   ]
  },
  {
   "cell_type": "code",
   "execution_count": 341,
   "id": "6a3631a5-0998-4293-b4eb-d46a6ca4d1af",
   "metadata": {},
   "outputs": [
    {
     "data": {
      "text/plain": [
       "'4-Methylmorpholine N-oxide (1.76 mL, 8.42 mmol) and potassium osmate dihydrate (97.3 mg, 0.38 mmol) were added to a solution of (5R,7aS)‐5‐butyl‐1H,3H,5H,7aH‐pyrrolo[1,2‐c][1,3]oxazol‐3‐one (347 mg, 1.91 mmol) in acetone/H2O (2:1, 54 mL).'"
      ]
     },
     "execution_count": 341,
     "metadata": {},
     "output_type": "execute_result"
    }
   ],
   "source": [
    "sentences[0]"
   ]
  },
  {
   "cell_type": "code",
   "execution_count": 337,
   "id": "40dd7e29-9736-4755-8069-604f1ac5e5d3",
   "metadata": {},
   "outputs": [
    {
     "data": {
      "text/plain": [
       "4-Methylmorpholine N-oxide (1.76 mL, 8.42 mmol) and potassium osmate dihydrate (97.3 mg, 0.38 mmol)"
      ]
     },
     "execution_count": 337,
     "metadata": {},
     "output_type": "execute_result"
    }
   ],
   "source": [
    "clause_1"
   ]
  },
  {
   "cell_type": "code",
   "execution_count": 338,
   "id": "cf9d76f3-68c6-42ea-babf-c1b1fae20948",
   "metadata": {},
   "outputs": [
    {
     "data": {
      "text/plain": [
       "'added'"
      ]
     },
     "execution_count": 338,
     "metadata": {},
     "output_type": "execute_result"
    }
   ],
   "source": [
    "method"
   ]
  },
  {
   "cell_type": "code",
   "execution_count": 339,
   "id": "ae090fe4-4662-4137-a364-c278f7cd3f5f",
   "metadata": {},
   "outputs": [
    {
     "data": {
      "text/plain": [
       "to a solution of (5R,7aS)‐5‐butyl‐1H,3H,5H,7aH‐pyrrolo[1,2‐c][1,3]oxazol‐3‐one (347 mg, 1.91 mmol) in acetone/H2O (2:1, 54 mL)."
      ]
     },
     "execution_count": 339,
     "metadata": {},
     "output_type": "execute_result"
    }
   ],
   "source": [
    "clause_2"
   ]
  },
  {
   "cell_type": "code",
   "execution_count": 287,
   "id": "be05066e-6b2b-4504-8ec7-58a2aea87db0",
   "metadata": {},
   "outputs": [],
   "source": [
    "def clause_breakdown(clause):\n",
    "    \n",
    "    for token in clause:\n",
    "        \n",
    "        if token.dep_ == 'cc':\n",
    "            \n",
    "            nps = clause.text.split(token.text)\n",
    "            break\n",
    "            \n",
    "    return nps"
   ]
  },
  {
   "cell_type": "code",
   "execution_count": 288,
   "id": "6dded8ba-db91-4316-ada4-cddb9f2674a6",
   "metadata": {},
   "outputs": [],
   "source": [
    "nps_1 = clause_breakdown(clause_1)"
   ]
  },
  {
   "cell_type": "code",
   "execution_count": null,
   "id": "3c2e3c85-5992-41cd-a4ee-3d3d620dbb5b",
   "metadata": {},
   "outputs": [],
   "source": [
    "def"
   ]
  },
  {
   "cell_type": "code",
   "execution_count": null,
   "id": "2aeeac57-b80f-4474-94be-25e3b907bf09",
   "metadata": {},
   "outputs": [],
   "source": []
  }
 ],
 "metadata": {
  "kernelspec": {
   "display_name": "Python 3 (ipykernel)",
   "language": "python",
   "name": "python3"
  },
  "language_info": {
   "codemirror_mode": {
    "name": "ipython",
    "version": 3
   },
   "file_extension": ".py",
   "mimetype": "text/x-python",
   "name": "python",
   "nbconvert_exporter": "python",
   "pygments_lexer": "ipython3",
   "version": "3.7.3"
  }
 },
 "nbformat": 4,
 "nbformat_minor": 5
}
